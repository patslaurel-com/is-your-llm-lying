{
  "cells": [
    {
      "cell_type": "markdown",
      "id": "7796ce6d",
      "metadata": {},
      "source": [
        "# Baseline Evaluation Walkthrough\n",
        "This notebook demonstrates how Riley Inc. can launch a baseline Amazon Bedrock Eval job using the Nova Lite foundation model and the general text generation task type."
      ]
    },
    {
      "cell_type": "markdown",
      "id": "ed362b64",
      "metadata": {},
      "source": [
        "## Prerequisites\n",
        "- AWS credentials configured for the account where evaluations will run.\n",
        "- The IAM role `Amazon-Bedrock-IAM-Role-20250928T210855` with permissions to start Bedrock eval jobs and access the target S3 bucket.\n",
        "- Python environment with the latest `boto3` and `botocore` libraries installed.\n"
      ]
    },
    {
      "cell_type": "code",
      "execution_count": 43,
      "id": "f0974ac6",
      "metadata": {},
      "outputs": [],
      "source": [
        "import json\n",
        "from datetime import datetime\n",
        "import boto3\n",
        "from botocore.exceptions import BotoCoreError, ClientError\n",
        "import re\n"
      ]
    },
    {
      "cell_type": "markdown",
      "id": "ba10c8be",
      "metadata": {},
      "source": [
        "## Configuration\n",
        "Set your AWS Region, evaluation role, and S3 destination. Update `eval_results_bucket` to match the evaluation bucket provisioned in `00_infra_setup.ipynb`."
      ]
    },
    {
      "cell_type": "code",
      "execution_count": null,
      "id": "e19b47b2",
      "metadata": {},
      "outputs": [
        {
          "name": "stdout",
          "output_type": "stream",
          "text": [
            "Evaluation artifacts will be stored under: s3://riley-inc-rag-eval-results-20250929-210517/baseline-evals/comparison-run-20250929-224333/\n",
            "Datasets: ['Builtin.T-REx']; metrics: ['Builtin.Accuracy']\n"
          ]
        }
      ],
      "source": [
        "aws_region = \"us-west-2\" # Update with your selected region\n",
        "role_arn = \"arn:aws:iam::187899929471:role/service-role/Amazon-Bedrock-IAM-Role-20250928T210855\" # Update with your own role arn\n",
        "model_id = \"us.amazon.nova-lite-v1:0\" # Update with your selected model id\n",
        "eval_results_bucket = \"riley-inc-rag-eval-results-20250929-210517\"  # Paste the exact bucket name created in 00_infra_setup.ipynb\n",
        "results_prefix = \"baseline-evals/\"\n",
        "datasets = [\"Builtin.T-REx\"]\n",
        "metrics = [\"Builtin.Accuracy\"]\n",
        "task_type = \"Generation\"\n",
        "comparison_run_id = datetime.now().strftime('%Y%m%d-%H%M%S')\n",
        "shared_output_uri = f\"s3://{eval_results_bucket}/{results_prefix}comparison-run-{comparison_run_id}/\"\n",
        "\n",
        "if eval_results_bucket.endswith(\"REPLACE-ME\"):\n",
        "    raise ValueError(\"Update eval_results_bucket with the actual bucket name before running the notebook.\")\n",
        "if not datasets or not metrics:\n",
        "    raise ValueError(\"Datasets and metrics must be non-empty lists.\")\n",
        "\n",
        "print(f\"Evaluation artifacts will be stored under: {shared_output_uri}\")\n",
        "print(f\"Datasets: {datasets}; metrics: {metrics}\")\n"
      ]
    },
    {
      "cell_type": "markdown",
      "id": "553c97c6",
      "metadata": {},
      "source": [
        "## Initialize Bedrock Client\n",
        "Establish a client connection to Amazon Bedrock in the selected region."
      ]
    },
    {
      "cell_type": "code",
      "execution_count": 45,
      "id": "e0378e0e",
      "metadata": {},
      "outputs": [
        {
          "name": "stdout",
          "output_type": "stream",
          "text": [
            "Bedrock client ready.\n"
          ]
        }
      ],
      "source": [
        "bedrock = boto3.client(\"bedrock\", region_name=aws_region)\n",
        "print(\"Bedrock client ready.\")"
      ]
    },
    {
      "cell_type": "markdown",
      "id": "acf17073",
      "metadata": {},
      "source": [
        "## Submit Baseline Eval Job\n",
        "Create a general text generation evaluation job for the Nova Lite model using accuracy as the metric."
      ]
    },
    {
      "cell_type": "code",
      "execution_count": 46,
      "id": "bf9baa5f",
      "metadata": {},
      "outputs": [
        {
          "name": "stdout",
          "output_type": "stream",
          "text": [
            "Creating evaluation job: baseline-eval-job-20250929-224333 → s3://riley-inc-rag-eval-results-20250929-210517/baseline-evals/comparison-run-20250929-224333/\n",
            "{\n",
            "  \"ResponseMetadata\": {\n",
            "    \"RequestId\": \"5953de9e-2407-4a34-a5b0-556bc5032b9e\",\n",
            "    \"HTTPStatusCode\": 202,\n",
            "    \"HTTPHeaders\": {\n",
            "      \"date\": \"Mon, 29 Sep 2025 14:43:35 GMT\",\n",
            "      \"content-type\": \"application/json\",\n",
            "      \"content-length\": \"79\",\n",
            "      \"connection\": \"keep-alive\",\n",
            "      \"x-amzn-requestid\": \"5953de9e-2407-4a34-a5b0-556bc5032b9e\"\n",
            "    },\n",
            "    \"RetryAttempts\": 0\n",
            "  },\n",
            "  \"jobArn\": \"arn:aws:bedrock:us-west-2:187899929471:evaluation-job/r2bv25n2n9zy\"\n",
            "}\n"
          ]
        }
      ],
      "source": [
        "# Build a timestamped job name\n",
        "job_name = f\"baseline-eval-job-{datetime.now().strftime('%Y%m%d-%H%M%S')}\"\n",
        "output_uri = shared_output_uri\n",
        "print(f\"Creating evaluation job: {job_name} → {output_uri}\")\n",
        "\n",
        "dataset_metric_configs = [\n",
        "    {\n",
        "        'taskType': task_type,\n",
        "        'dataset': {'name': dataset_name},\n",
        "        'metricNames': metrics\n",
        "    }\n",
        "    for dataset_name in datasets\n",
        "]\n",
        "\n",
        "evaluation_request = {\n",
        "    'jobName': job_name,\n",
        "    'roleArn': role_arn,\n",
        "    'evaluationConfig': {\n",
        "        'automated': {\n",
        "            'datasetMetricConfigs': dataset_metric_configs\n",
        "        }\n",
        "    },\n",
        "    'inferenceConfig': {\n",
        "        'models': [\n",
        "            {\n",
        "                'bedrockModel': {\n",
        "                    'modelIdentifier': model_id\n",
        "                }\n",
        "            }\n",
        "        ]\n",
        "    },\n",
        "    'outputDataConfig': {'s3Uri': output_uri}\n",
        "}\n",
        "\n",
        "try:\n",
        "    create_response = bedrock.create_evaluation_job(**evaluation_request)\n",
        "    print(json.dumps(create_response, indent=2))\n",
        "except (ClientError, BotoCoreError) as err:\n",
        "    raise RuntimeError('Failed to create evaluation job.') from err\n"
      ]
    },
    {
      "cell_type": "markdown",
      "id": "863f151a",
      "metadata": {},
      "source": [
        "## Check Job Status\n",
        "Retrieve the evaluation job status to confirm that it is running."
      ]
    },
    {
      "cell_type": "code",
      "execution_count": 47,
      "id": "ea972aac",
      "metadata": {},
      "outputs": [
        {
          "name": "stdout",
          "output_type": "stream",
          "text": [
            "{\n",
            "  \"ResponseMetadata\": {\n",
            "    \"RequestId\": \"434ede68-9f7e-4f69-982e-113d7f28ed25\",\n",
            "    \"HTTPStatusCode\": 200,\n",
            "    \"HTTPHeaders\": {\n",
            "      \"date\": \"Mon, 29 Sep 2025 14:43:35 GMT\",\n",
            "      \"content-type\": \"application/json\",\n",
            "      \"content-length\": \"1012\",\n",
            "      \"connection\": \"keep-alive\",\n",
            "      \"x-amzn-requestid\": \"434ede68-9f7e-4f69-982e-113d7f28ed25\"\n",
            "    },\n",
            "    \"RetryAttempts\": 0\n",
            "  },\n",
            "  \"jobName\": \"baseline-eval-job-20250929-224333\",\n",
            "  \"status\": \"InProgress\",\n",
            "  \"jobArn\": \"arn:aws:bedrock:us-west-2:187899929471:evaluation-job/r2bv25n2n9zy\",\n",
            "  \"roleArn\": \"arn:aws:iam::187899929471:role/service-role/Amazon-Bedrock-IAM-Role-20250928T210855\",\n",
            "  \"jobType\": \"Automated\",\n",
            "  \"applicationType\": \"ModelEvaluation\",\n",
            "  \"evaluationConfig\": {\n",
            "    \"automated\": {\n",
            "      \"datasetMetricConfigs\": [\n",
            "        {\n",
            "          \"taskType\": \"Generation\",\n",
            "          \"dataset\": {\n",
            "            \"name\": \"Builtin.T-REx\"\n",
            "          },\n",
            "          \"metricNames\": [\n",
            "            \"Builtin.Accuracy\"\n",
            "          ]\n",
            "        }\n",
            "      ]\n",
            "    }\n",
            "  },\n",
            "  \"inferenceConfig\": {\n",
            "    \"models\": [\n",
            "      {\n",
            "        \"bedrockModel\": {\n",
            "          \"modelIdentifier\": \"us.amazon.nova-lite-v1:0\",\n",
            "          \"inferenceParams\": \"{}\"\n",
            "        }\n",
            "      }\n",
            "    ]\n",
            "  },\n",
            "  \"outputDataConfig\": {\n",
            "    \"s3Uri\": \"s3://riley-inc-rag-eval-results-20250929-210517/baseline-evals/comparison-run-20250929-224333/\"\n",
            "  },\n",
            "  \"creationTime\": \"2025-09-29 14:43:35.305000+00:00\",\n",
            "  \"lastModifiedTime\": \"2025-09-29 14:43:35.305000+00:00\"\n",
            "}\n"
          ]
        }
      ],
      "source": [
        "job_arn = create_response.get(\"jobArn\") or create_response.get(\"evaluationJobArn\")\n",
        "if not job_arn:\n",
        "    raise ValueError(\"Could not find the job ARN in the create response.\")\n",
        "\n",
        "try:\n",
        "    job_details = bedrock.get_evaluation_job(jobIdentifier=job_arn)\n",
        "    print(json.dumps(job_details, indent=2, default=str))\n",
        "except (ClientError, BotoCoreError) as err:\n",
        "    raise RuntimeError(\"Unable to fetch evaluation job status.\") from err"
      ]
    },
    {
      "cell_type": "markdown",
      "id": "33a1fe5f",
      "metadata": {},
      "source": [
        "## Automate Multi-Model Eval Launch\n",
        "Define a helper that accepts model, task type, datasets, and metrics so you can spin up multiple evaluations with consistent settings."
      ]
    },
    {
      "cell_type": "code",
      "execution_count": 50,
      "id": "a6506984",
      "metadata": {},
      "outputs": [],
      "source": [
        "def launch_eval_job(model_id: str, task_type: str, datasets: list, metrics: list):\n",
        "    if not isinstance(datasets, list) or not datasets:\n",
        "        raise ValueError('datasets must be a non-empty list of dataset names.')\n",
        "    if not isinstance(metrics, list) or not metrics:\n",
        "        raise ValueError('metrics must be a non-empty list of metric names.')\n",
        "\n",
        "    dataset_metric_configs = [\n",
        "        {\n",
        "            'taskType': task_type,\n",
        "            'dataset': {'name': dataset_name},\n",
        "            'metricNames': metrics\n",
        "        }\n",
        "        for dataset_name in datasets\n",
        "    ]\n",
        "\n",
        "    sanitized_model = re.sub(r'[^a-zA-Z0-9-]+', '-', model_id.split('/')[-1])\n",
        "    job_suffix = datetime.now().strftime('%Y%m%d-%H%M%S')\n",
        "    job_name = f\"baseline-eval-job-{sanitized_model}-{job_suffix}\"\n",
        "    output_uri = shared_output_uri\n",
        "\n",
        "    request_payload = {\n",
        "        'jobName': job_name,\n",
        "        'roleArn': role_arn,\n",
        "        'evaluationConfig': {\n",
        "            'automated': {\n",
        "                'datasetMetricConfigs': dataset_metric_configs\n",
        "            }\n",
        "        },\n",
        "        'inferenceConfig': {\n",
        "            'models': [\n",
        "                {\n",
        "                    'bedrockModel': {\n",
        "                        'modelIdentifier': model_id\n",
        "                    }\n",
        "                }\n",
        "            ]\n",
        "        },\n",
        "        'outputDataConfig': {\n",
        "            's3Uri': output_uri\n",
        "        }\n",
        "    }\n",
        "\n",
        "    try:\n",
        "        response = bedrock.create_evaluation_job(**request_payload)\n",
        "    except (ClientError, BotoCoreError) as err:\n",
        "        raise RuntimeError(f'Failed to create evaluation job for {model_id}.') from err\n",
        "\n",
        "    job_arn = response.get('jobArn') or response.get('evaluationJobArn')\n",
        "    print(f\"Launched {job_name} (model={model_id}) -> {job_arn}\")\n",
        "    return {\n",
        "        'job_name': job_name,\n",
        "        'job_arn': job_arn,\n",
        "        'response': response\n",
        "    }\n"
      ]
    },
    {
      "cell_type": "markdown",
      "id": "7d3ce96c",
      "metadata": {},
      "source": [
        "## Launch Batch of Eval Jobs\n",
        "Trigger three evaluations for different Nova-family models while reusing the same datasets and metrics."
      ]
    },
    {
      "cell_type": "code",
      "execution_count": 51,
      "id": "15b0cf77",
      "metadata": {},
      "outputs": [
        {
          "name": "stdout",
          "output_type": "stream",
          "text": [
            "Launched baseline-eval-job-us-amazon-nova-lite-v1-0-20250929-224401 (model=us.amazon.nova-lite-v1:0) -> arn:aws:bedrock:us-west-2:187899929471:evaluation-job/p9mnmfi9e41v\n",
            "Launched baseline-eval-job-us-amazon-nova-micro-v1-0-20250929-224402 (model=us.amazon.nova-micro-v1:0) -> arn:aws:bedrock:us-west-2:187899929471:evaluation-job/6ib4dw60o4ph\n",
            "Launched baseline-eval-job-us-amazon-nova-pro-v1-0-20250929-224404 (model=us.amazon.nova-pro-v1:0) -> arn:aws:bedrock:us-west-2:187899929471:evaluation-job/12qagahudtht\n",
            "[\n",
            "  {\n",
            "    \"job_name\": \"baseline-eval-job-us-amazon-nova-lite-v1-0-20250929-224401\",\n",
            "    \"job_arn\": \"arn:aws:bedrock:us-west-2:187899929471:evaluation-job/p9mnmfi9e41v\",\n",
            "    \"response\": {\n",
            "      \"ResponseMetadata\": {\n",
            "        \"RequestId\": \"9ef80206-fc80-436a-a2aa-25840ae1f980\",\n",
            "        \"HTTPStatusCode\": 202,\n",
            "        \"HTTPHeaders\": {\n",
            "          \"date\": \"Mon, 29 Sep 2025 14:44:02 GMT\",\n",
            "          \"content-type\": \"application/json\",\n",
            "          \"content-length\": \"79\",\n",
            "          \"connection\": \"keep-alive\",\n",
            "          \"x-amzn-requestid\": \"9ef80206-fc80-436a-a2aa-25840ae1f980\"\n",
            "        },\n",
            "        \"RetryAttempts\": 0\n",
            "      },\n",
            "      \"jobArn\": \"arn:aws:bedrock:us-west-2:187899929471:evaluation-job/p9mnmfi9e41v\"\n",
            "    }\n",
            "  },\n",
            "  {\n",
            "    \"job_name\": \"baseline-eval-job-us-amazon-nova-micro-v1-0-20250929-224402\",\n",
            "    \"job_arn\": \"arn:aws:bedrock:us-west-2:187899929471:evaluation-job/6ib4dw60o4ph\",\n",
            "    \"response\": {\n",
            "      \"ResponseMetadata\": {\n",
            "        \"RequestId\": \"9dd34d4c-f721-48e9-8020-0d335cb59c25\",\n",
            "        \"HTTPStatusCode\": 202,\n",
            "        \"HTTPHeaders\": {\n",
            "          \"date\": \"Mon, 29 Sep 2025 14:44:04 GMT\",\n",
            "          \"content-type\": \"application/json\",\n",
            "          \"content-length\": \"79\",\n",
            "          \"connection\": \"keep-alive\",\n",
            "          \"x-amzn-requestid\": \"9dd34d4c-f721-48e9-8020-0d335cb59c25\"\n",
            "        },\n",
            "        \"RetryAttempts\": 0\n",
            "      },\n",
            "      \"jobArn\": \"arn:aws:bedrock:us-west-2:187899929471:evaluation-job/6ib4dw60o4ph\"\n",
            "    }\n",
            "  },\n",
            "  {\n",
            "    \"job_name\": \"baseline-eval-job-us-amazon-nova-pro-v1-0-20250929-224404\",\n",
            "    \"job_arn\": \"arn:aws:bedrock:us-west-2:187899929471:evaluation-job/12qagahudtht\",\n",
            "    \"response\": {\n",
            "      \"ResponseMetadata\": {\n",
            "        \"RequestId\": \"a9cb7b46-1cf1-4e70-846c-42573fe34021\",\n",
            "        \"HTTPStatusCode\": 202,\n",
            "        \"HTTPHeaders\": {\n",
            "          \"date\": \"Mon, 29 Sep 2025 14:44:06 GMT\",\n",
            "          \"content-type\": \"application/json\",\n",
            "          \"content-length\": \"79\",\n",
            "          \"connection\": \"keep-alive\",\n",
            "          \"x-amzn-requestid\": \"a9cb7b46-1cf1-4e70-846c-42573fe34021\"\n",
            "        },\n",
            "        \"RetryAttempts\": 0\n",
            "      },\n",
            "      \"jobArn\": \"arn:aws:bedrock:us-west-2:187899929471:evaluation-job/12qagahudtht\"\n",
            "    }\n",
            "  }\n",
            "]\n"
          ]
        }
      ],
      "source": [
        "candidate_models = [\n",
        "    'us.amazon.nova-lite-v1:0',\n",
        "    'us.amazon.nova-micro-v1:0',\n",
        "    'us.amazon.nova-pro-v1:0'\n",
        "]\n",
        "\n",
        "task_type = 'Generation'\n",
        "datasets = [\"Builtin.T-REx\"]\n",
        "metrics = [\"Builtin.Accuracy\", \"Builtin.Robustness\"]\n",
        "\n",
        "batch_jobs = []\n",
        "for candidate_model in candidate_models:\n",
        "    job_info = launch_eval_job(\n",
        "        model_id=candidate_model,\n",
        "        task_type=task_type,\n",
        "        datasets=datasets,\n",
        "        metrics=metrics\n",
        "    )\n",
        "    batch_jobs.append(job_info)\n",
        "\n",
        "print(json.dumps(batch_jobs, indent=2, default=str))\n"
      ]
    },
    {
      "cell_type": "markdown",
      "id": "99070698",
      "metadata": {},
      "source": [
        "## Next Steps\n",
        "- Monitor the job until it reaches a terminal state (`Completed`, `Failed`, or `Stopped`).\n",
        "- Review the metrics and detailed outputs stored in the S3 results prefix.\n",
        "- Iterate on prompts, models, or datasets as needed to improve baseline quality."
      ]
    }
  ],
  "metadata": {
    "kernelspec": {
      "display_name": ".venv",
      "language": "python",
      "name": "python3"
    },
    "language_info": {
      "codemirror_mode": {
        "name": "ipython",
        "version": 3
      },
      "file_extension": ".py",
      "mimetype": "text/x-python",
      "name": "python",
      "nbconvert_exporter": "python",
      "pygments_lexer": "ipython3",
      "version": "3.13.2"
    }
  },
  "nbformat": 4,
  "nbformat_minor": 5
}

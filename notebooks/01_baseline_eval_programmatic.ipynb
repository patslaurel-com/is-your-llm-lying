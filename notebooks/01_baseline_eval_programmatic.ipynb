{
  "cells": [
    {
      "cell_type": "markdown",
      "id": "7796ce6d",
      "metadata": {},
      "source": [
        "# Baseline Evaluation Walkthrough\n",
        "This notebook demonstrates how Riley Inc. can launch a baseline Amazon Bedrock Eval job using the Nova Lite foundation model and the general text generation task type."
      ]
    },
    {
      "cell_type": "markdown",
      "id": "ed362b64",
      "metadata": {},
      "source": [
        "## Prerequisites\n",
        "- AWS credentials configured for the account where evaluations will run.\n",
        "- The IAM role `Amazon-Bedrock-IAM-Role-20250928T210855` with permissions to start Bedrock eval jobs and access the target S3 bucket.\n",
        "- Python environment with the latest `boto3` and `botocore` libraries installed.\n"
      ]
    },
    {
      "cell_type": "code",
      "execution_count": 1,
      "id": "f0974ac6",
      "metadata": {},
      "outputs": [],
      "source": [
        "import json\n",
        "from datetime import datetime\n",
        "import boto3\n",
        "from botocore.exceptions import BotoCoreError, ClientError\n",
        "import re\n"
      ]
    },
    {
      "cell_type": "markdown",
      "id": "ba10c8be",
      "metadata": {},
      "source": [
        "## Configuration\n",
        "Set your AWS Region, evaluation role, and S3 destination. Update `eval_results_bucket` to match the evaluation bucket provisioned in `00_infra_setup.ipynb`."
      ]
    },
    {
      "cell_type": "code",
      "execution_count": null,
      "id": "e19b47b2",
      "metadata": {},
      "outputs": [
        {
          "name": "stdout",
          "output_type": "stream",
          "text": [
            "Evaluation artifacts will be stored under: s3://riley-inc-rag-eval-results-20250929-210517/baseline-evals/comparison-run-20250930-004722/\n",
            "Datasets: ['Builtin.T-REx']; metrics: ['Builtin.Accuracy']\n"
          ]
        }
      ],
      "source": [
        "aws_region = \"us-west-2\" # Update with your selected region\n",
        "role_arn = \"arn:aws:iam::187899929471:role/service-role/Amazon-Bedrock-IAM-Role-20250928T210855\" # Update with your own role arn\n",
        "model_id = \"us.amazon.nova-lite-v1:0\" # Update with your selected model id\n",
        "eval_results_bucket = \"riley-inc-rag-eval-results-20250929-210517\"  # Paste the exact bucket name created in 00_infra_setup.ipynb\n",
        "results_prefix = \"baseline-evals/\"\n",
        "datasets = [\"Builtin.T-REx\"]\n",
        "metrics = [\"Builtin.Accuracy\", \"Builtin.Robustness\"]\n",
        "task_type = \"Generation\"\n",
        "comparison_run_id = datetime.now().strftime('%Y%m%d-%H%M%S')\n",
        "shared_output_uri = f\"s3://{eval_results_bucket}/{results_prefix}comparison-run-{comparison_run_id}/\"\n",
        "\n",
        "if eval_results_bucket.endswith(\"REPLACE-ME\"):\n",
        "    raise ValueError(\"Update eval_results_bucket with the actual bucket name before running the notebook.\")\n",
        "if not datasets or not metrics:\n",
        "    raise ValueError(\"Datasets and metrics must be non-empty lists.\")\n",
        "\n",
        "print(f\"Evaluation artifacts will be stored under: {shared_output_uri}\")\n",
        "print(f\"Datasets: {datasets}; metrics: {metrics}\")\n"
      ]
    },
    {
      "cell_type": "markdown",
      "id": "553c97c6",
      "metadata": {},
      "source": [
        "## Initialize Bedrock Client\n",
        "Establish a client connection to Amazon Bedrock in the selected region."
      ]
    },
    {
      "cell_type": "code",
      "execution_count": 3,
      "id": "e0378e0e",
      "metadata": {},
      "outputs": [
        {
          "name": "stdout",
          "output_type": "stream",
          "text": [
            "Bedrock client ready.\n"
          ]
        }
      ],
      "source": [
        "bedrock = boto3.client(\"bedrock\", region_name=aws_region)\n",
        "print(\"Bedrock client ready.\")"
      ]
    },
    {
      "cell_type": "markdown",
      "id": "acf17073",
      "metadata": {},
      "source": [
        "## Submit Baseline Eval Job\n",
        "Create a general text generation evaluation job for the Nova Lite model using accuracy as the metric."
      ]
    },
    {
      "cell_type": "code",
      "execution_count": 4,
      "id": "bf9baa5f",
      "metadata": {},
      "outputs": [
        {
          "name": "stdout",
          "output_type": "stream",
          "text": [
            "Creating evaluation job: baseline-eval-job-20250930-004722 → s3://riley-inc-rag-eval-results-20250929-210517/baseline-evals/comparison-run-20250930-004722/\n",
            "{\n",
            "  \"ResponseMetadata\": {\n",
            "    \"RequestId\": \"5a1fad58-0b18-41a3-b3ad-a782439b933f\",\n",
            "    \"HTTPStatusCode\": 202,\n",
            "    \"HTTPHeaders\": {\n",
            "      \"date\": \"Mon, 29 Sep 2025 16:47:24 GMT\",\n",
            "      \"content-type\": \"application/json\",\n",
            "      \"content-length\": \"79\",\n",
            "      \"connection\": \"keep-alive\",\n",
            "      \"x-amzn-requestid\": \"5a1fad58-0b18-41a3-b3ad-a782439b933f\"\n",
            "    },\n",
            "    \"RetryAttempts\": 0\n",
            "  },\n",
            "  \"jobArn\": \"arn:aws:bedrock:us-west-2:187899929471:evaluation-job/67332yzy8mfl\"\n",
            "}\n"
          ]
        }
      ],
      "source": [
        "\n",
        "# Build a timestamped job name\n",
        "job_name = f\"baseline-eval-job-{datetime.now().strftime('%Y%m%d-%H%M%S')}\"\n",
        "output_uri = shared_output_uri\n",
        "print(f\"Creating evaluation job: {job_name} → {output_uri}\")\n",
        "\n",
        "dataset_metric_configs = [\n",
        "    {\n",
        "        'taskType': task_type,\n",
        "        'dataset': {'name': dataset_name},\n",
        "        'metricNames': metrics\n",
        "    }\n",
        "    for dataset_name in datasets\n",
        "]\n",
        "\n",
        "evaluation_request = {\n",
        "    'jobName': job_name,\n",
        "    'roleArn': role_arn,\n",
        "    'evaluationConfig': {\n",
        "        'automated': {\n",
        "            'datasetMetricConfigs': dataset_metric_configs\n",
        "        }\n",
        "    },\n",
        "    'inferenceConfig': {\n",
        "        'models': [\n",
        "            {\n",
        "                'bedrockModel': {\n",
        "                    'modelIdentifier': model_id\n",
        "                }\n",
        "            }\n",
        "        ]\n",
        "    },\n",
        "    'outputDataConfig': {'s3Uri': output_uri}\n",
        "}\n",
        "\n",
        "try:\n",
        "    create_response = bedrock.create_evaluation_job(**evaluation_request)\n",
        "    print(json.dumps(create_response, indent=2))\n",
        "except (ClientError, BotoCoreError) as err:\n",
        "    raise RuntimeError('Failed to create evaluation job.') from err\n"
      ]
    },
    {
      "cell_type": "markdown",
      "id": "863f151a",
      "metadata": {},
      "source": [
        "## Check Job Status\n",
        "Retrieve the evaluation job status to confirm that it is running."
      ]
    },
    {
      "cell_type": "code",
      "execution_count": 5,
      "id": "ea972aac",
      "metadata": {},
      "outputs": [
        {
          "name": "stdout",
          "output_type": "stream",
          "text": [
            "{\n",
            "  \"ResponseMetadata\": {\n",
            "    \"RequestId\": \"1abf79a1-2418-4749-adef-e5d6fdf727e3\",\n",
            "    \"HTTPStatusCode\": 200,\n",
            "    \"HTTPHeaders\": {\n",
            "      \"date\": \"Mon, 29 Sep 2025 16:47:24 GMT\",\n",
            "      \"content-type\": \"application/json\",\n",
            "      \"content-length\": \"1012\",\n",
            "      \"connection\": \"keep-alive\",\n",
            "      \"x-amzn-requestid\": \"1abf79a1-2418-4749-adef-e5d6fdf727e3\"\n",
            "    },\n",
            "    \"RetryAttempts\": 0\n",
            "  },\n",
            "  \"jobName\": \"baseline-eval-job-20250930-004722\",\n",
            "  \"status\": \"InProgress\",\n",
            "  \"jobArn\": \"arn:aws:bedrock:us-west-2:187899929471:evaluation-job/67332yzy8mfl\",\n",
            "  \"roleArn\": \"arn:aws:iam::187899929471:role/service-role/Amazon-Bedrock-IAM-Role-20250928T210855\",\n",
            "  \"jobType\": \"Automated\",\n",
            "  \"applicationType\": \"ModelEvaluation\",\n",
            "  \"evaluationConfig\": {\n",
            "    \"automated\": {\n",
            "      \"datasetMetricConfigs\": [\n",
            "        {\n",
            "          \"taskType\": \"Generation\",\n",
            "          \"dataset\": {\n",
            "            \"name\": \"Builtin.T-REx\"\n",
            "          },\n",
            "          \"metricNames\": [\n",
            "            \"Builtin.Accuracy\"\n",
            "          ]\n",
            "        }\n",
            "      ]\n",
            "    }\n",
            "  },\n",
            "  \"inferenceConfig\": {\n",
            "    \"models\": [\n",
            "      {\n",
            "        \"bedrockModel\": {\n",
            "          \"modelIdentifier\": \"us.amazon.nova-lite-v1:0\",\n",
            "          \"inferenceParams\": \"{}\"\n",
            "        }\n",
            "      }\n",
            "    ]\n",
            "  },\n",
            "  \"outputDataConfig\": {\n",
            "    \"s3Uri\": \"s3://riley-inc-rag-eval-results-20250929-210517/baseline-evals/comparison-run-20250930-004722/\"\n",
            "  },\n",
            "  \"creationTime\": \"2025-09-29 16:47:24.153000+00:00\",\n",
            "  \"lastModifiedTime\": \"2025-09-29 16:47:24.153000+00:00\"\n",
            "}\n"
          ]
        }
      ],
      "source": [
        "job_arn = create_response.get(\"jobArn\") or create_response.get(\"evaluationJobArn\")\n",
        "if not job_arn:\n",
        "    raise ValueError(\"Could not find the job ARN in the create response.\")\n",
        "\n",
        "try:\n",
        "    job_details = bedrock.get_evaluation_job(jobIdentifier=job_arn)\n",
        "    print(json.dumps(job_details, indent=2, default=str))\n",
        "except (ClientError, BotoCoreError) as err:\n",
        "    raise RuntimeError(\"Unable to fetch evaluation job status.\") from err"
      ]
    },
    {
      "cell_type": "markdown",
      "id": "33a1fe5f",
      "metadata": {},
      "source": [
        "## Automate Multi-Model Eval Launch\n",
        "Define a helper that accepts model, task type, datasets, and metrics so you can spin up multiple evaluations with consistent settings."
      ]
    },
    {
      "cell_type": "code",
      "execution_count": 6,
      "id": "a6506984",
      "metadata": {},
      "outputs": [],
      "source": [
        "\n",
        "def launch_eval_job(model_id: str, task_type: str, datasets: list, metrics: list):\n",
        "    if not isinstance(datasets, list) or not datasets:\n",
        "        raise ValueError('datasets must be a non-empty list of dataset names.')\n",
        "    if not isinstance(metrics, list) or not metrics:\n",
        "        raise ValueError('metrics must be a non-empty list of metric names.')\n",
        "\n",
        "    dataset_metric_configs = [\n",
        "        {\n",
        "            'taskType': task_type,\n",
        "            'dataset': {'name': dataset_name},\n",
        "            'metricNames': metrics\n",
        "        }\n",
        "        for dataset_name in datasets\n",
        "    ]\n",
        "\n",
        "    sanitized_model = re.sub(r'[^a-zA-Z0-9-]+', '-', model_id.split('/')[-1])\n",
        "    job_suffix = datetime.now().strftime('%Y%m%d-%H%M%S')\n",
        "    job_name = f\"baseline-eval-job-{sanitized_model}-{job_suffix}\"\n",
        "    output_uri = shared_output_uri\n",
        "\n",
        "    request_payload = {\n",
        "        'jobName': job_name,\n",
        "        'roleArn': role_arn,\n",
        "        'evaluationConfig': {\n",
        "            'automated': {\n",
        "                'datasetMetricConfigs': dataset_metric_configs\n",
        "            }\n",
        "        },\n",
        "        'inferenceConfig': {\n",
        "            'models': [\n",
        "                {\n",
        "                    'bedrockModel': {\n",
        "                        'modelIdentifier': model_id\n",
        "                    }\n",
        "                }\n",
        "            ]\n",
        "        },\n",
        "        'outputDataConfig': {\n",
        "            's3Uri': output_uri\n",
        "        }\n",
        "    }\n",
        "\n",
        "    try:\n",
        "        response = bedrock.create_evaluation_job(**request_payload)\n",
        "    except (ClientError, BotoCoreError) as err:\n",
        "        raise RuntimeError(f'Failed to create evaluation job for {model_id}.') from err\n",
        "\n",
        "    job_arn = response.get('jobArn') or response.get('evaluationJobArn')\n",
        "    print(f\"Launched {job_name} (model={model_id}) -> {job_arn}\")\n",
        "    return {\n",
        "        'job_name': job_name,\n",
        "        'job_arn': job_arn,\n",
        "        'response': response\n",
        "    }\n"
      ]
    },
    {
      "cell_type": "markdown",
      "id": "7d3ce96c",
      "metadata": {},
      "source": [
        "## Launch Batch of Eval Jobs\n",
        "Trigger three evaluations for different Nova-family models while reusing the same datasets and metrics."
      ]
    },
    {
      "cell_type": "code",
      "execution_count": 7,
      "id": "15b0cf77",
      "metadata": {},
      "outputs": [
        {
          "name": "stdout",
          "output_type": "stream",
          "text": [
            "Launched baseline-eval-job-us-amazon-nova-lite-v1-0-20250930-004724 (model=us.amazon.nova-lite-v1:0) -> arn:aws:bedrock:us-west-2:187899929471:evaluation-job/nvty69b439h9\n",
            "Launched baseline-eval-job-us-amazon-nova-micro-v1-0-20250930-004725 (model=us.amazon.nova-micro-v1:0) -> arn:aws:bedrock:us-west-2:187899929471:evaluation-job/1ol66tf3ns0i\n",
            "[\n",
            "  {\n",
            "    \"job_name\": \"baseline-eval-job-us-amazon-nova-lite-v1-0-20250930-004724\",\n",
            "    \"job_arn\": \"arn:aws:bedrock:us-west-2:187899929471:evaluation-job/nvty69b439h9\",\n",
            "    \"response\": {\n",
            "      \"ResponseMetadata\": {\n",
            "        \"RequestId\": \"6dd1e04c-3c62-4bc1-95fe-fc3853c9c9ca\",\n",
            "        \"HTTPStatusCode\": 202,\n",
            "        \"HTTPHeaders\": {\n",
            "          \"date\": \"Mon, 29 Sep 2025 16:47:25 GMT\",\n",
            "          \"content-type\": \"application/json\",\n",
            "          \"content-length\": \"79\",\n",
            "          \"connection\": \"keep-alive\",\n",
            "          \"x-amzn-requestid\": \"6dd1e04c-3c62-4bc1-95fe-fc3853c9c9ca\"\n",
            "        },\n",
            "        \"RetryAttempts\": 0\n",
            "      },\n",
            "      \"jobArn\": \"arn:aws:bedrock:us-west-2:187899929471:evaluation-job/nvty69b439h9\"\n",
            "    }\n",
            "  },\n",
            "  {\n",
            "    \"job_name\": \"baseline-eval-job-us-amazon-nova-micro-v1-0-20250930-004725\",\n",
            "    \"job_arn\": \"arn:aws:bedrock:us-west-2:187899929471:evaluation-job/1ol66tf3ns0i\",\n",
            "    \"response\": {\n",
            "      \"ResponseMetadata\": {\n",
            "        \"RequestId\": \"c5013869-571b-4d5c-953f-18cb7efa4edb\",\n",
            "        \"HTTPStatusCode\": 202,\n",
            "        \"HTTPHeaders\": {\n",
            "          \"date\": \"Mon, 29 Sep 2025 16:47:27 GMT\",\n",
            "          \"content-type\": \"application/json\",\n",
            "          \"content-length\": \"79\",\n",
            "          \"connection\": \"keep-alive\",\n",
            "          \"x-amzn-requestid\": \"c5013869-571b-4d5c-953f-18cb7efa4edb\"\n",
            "        },\n",
            "        \"RetryAttempts\": 0\n",
            "      },\n",
            "      \"jobArn\": \"arn:aws:bedrock:us-west-2:187899929471:evaluation-job/1ol66tf3ns0i\"\n",
            "    }\n",
            "  }\n",
            "]\n"
          ]
        }
      ],
      "source": [
        "candidate_models = [\n",
        "    'us.amazon.nova-lite-v1:0',\n",
        "    'us.amazon.nova-micro-v1:0',\n",
        "]\n",
        "\n",
        "task_type = 'Generation'\n",
        "datasets = [\"Builtin.T-REx\"]\n",
        "metrics = [\"Builtin.Accuracy\", \"Builtin.Robustness\"]\n",
        "\n",
        "batch_jobs = []\n",
        "for candidate_model in candidate_models:\n",
        "    job_info = launch_eval_job(\n",
        "        model_id=candidate_model,\n",
        "        task_type=task_type,\n",
        "        datasets=datasets,\n",
        "        metrics=metrics\n",
        "    )\n",
        "    batch_jobs.append(job_info)\n",
        "\n",
        "print(json.dumps(batch_jobs, indent=2, default=str))\n"
      ]
    },
    {
      "cell_type": "markdown",
      "id": "66ff7395",
      "metadata": {},
      "source": [
        "## Compare Evaluation Jobs\n",
        "Once evaluation jobs complete, use the shared results prefix to compare model performance side-by-side. The cells below gather job metadata and load aggregated metrics from Amazon S3.\n"
      ]
    },
    {
      "cell_type": "markdown",
      "id": "bbd59be4",
      "metadata": {},
      "source": [
        "### Gather Job Metadata\n",
        "Collect the job ARNs and names you want to compare. This uses the baseline run plus any batch jobs launched earlier.\n"
      ]
    },
    {
      "cell_type": "code",
      "execution_count": 8,
      "id": "2135a1fb",
      "metadata": {},
      "outputs": [
        {
          "name": "stdout",
          "output_type": "stream",
          "text": [
            "- baseline-eval-job-20250930-004722 -> arn:aws:bedrock:us-west-2:187899929471:evaluation-job/67332yzy8mfl\n",
            "- baseline-eval-job-us-amazon-nova-lite-v1-0-20250930-004724 -> arn:aws:bedrock:us-west-2:187899929471:evaluation-job/nvty69b439h9\n",
            "- baseline-eval-job-us-amazon-nova-micro-v1-0-20250930-004725 -> arn:aws:bedrock:us-west-2:187899929471:evaluation-job/1ol66tf3ns0i\n"
          ]
        }
      ],
      "source": [
        "comparison_jobs = []\n",
        "\n",
        "if 'create_response' in globals():\n",
        "    comparison_jobs.append({\n",
        "        'job_name': evaluation_request['jobName'],\n",
        "        'job_arn': create_response.get('jobArn') or create_response.get('evaluationJobArn')\n",
        "    })\n",
        "\n",
        "if 'batch_jobs' in globals() and batch_jobs:\n",
        "    comparison_jobs.extend([\n",
        "        {'job_name': job['job_name'], 'job_arn': job['job_arn']}\n",
        "        for job in batch_jobs\n",
        "    ])\n",
        "\n",
        "if not comparison_jobs:\n",
        "    raise ValueError('No evaluation jobs recorded yet. Launch at least one job before running comparisons.')\n",
        "\n",
        "for job in comparison_jobs:\n",
        "    print(f\"- {job['job_name']} -> {job['job_arn']}\")\n"
      ]
    },
    {
      "cell_type": "markdown",
      "id": "6d98bb9d",
      "metadata": {},
      "source": [
        "### Load Aggregated Metrics from S3\n",
        "The helper below lists objects under the shared output prefix, searches for aggregated metric files, and builds a comparison table. Jobs still in progress or without published metrics are skipped.\n"
      ]
    },
    {
      "cell_type": "code",
      "execution_count": 13,
      "id": "b41f1298",
      "metadata": {},
      "outputs": [
        {
          "data": {
            "text/html": [
              "<div>\n",
              "<style scoped>\n",
              "    .dataframe tbody tr th:only-of-type {\n",
              "        vertical-align: middle;\n",
              "    }\n",
              "\n",
              "    .dataframe tbody tr th {\n",
              "        vertical-align: top;\n",
              "    }\n",
              "\n",
              "    .dataframe thead th {\n",
              "        text-align: right;\n",
              "    }\n",
              "</style>\n",
              "<table border=\"1\" class=\"dataframe\">\n",
              "  <thead>\n",
              "    <tr style=\"text-align: right;\">\n",
              "      <th></th>\n",
              "      <th>job_arn</th>\n",
              "      <th>metrics_source</th>\n",
              "      <th>Builtin.Accuracy</th>\n",
              "      <th>recordsEvaluated</th>\n",
              "      <th>Builtin.Robustness</th>\n",
              "    </tr>\n",
              "    <tr>\n",
              "      <th>job_name</th>\n",
              "      <th></th>\n",
              "      <th></th>\n",
              "      <th></th>\n",
              "      <th></th>\n",
              "      <th></th>\n",
              "    </tr>\n",
              "  </thead>\n",
              "  <tbody>\n",
              "    <tr>\n",
              "      <th>baseline-eval-job-20250930-004722</th>\n",
              "      <td>arn:aws:bedrock:us-west-2:187899929471:evaluat...</td>\n",
              "      <td>baseline-evals/comparison-run-20250930-004722/...</td>\n",
              "      <td>0.53</td>\n",
              "      <td>100</td>\n",
              "      <td>NaN</td>\n",
              "    </tr>\n",
              "    <tr>\n",
              "      <th>baseline-eval-job-us-amazon-nova-lite-v1-0-20250930-004724</th>\n",
              "      <td>arn:aws:bedrock:us-west-2:187899929471:evaluat...</td>\n",
              "      <td>baseline-evals/comparison-run-20250930-004722/...</td>\n",
              "      <td>0.52</td>\n",
              "      <td>100</td>\n",
              "      <td>4.559676</td>\n",
              "    </tr>\n",
              "    <tr>\n",
              "      <th>baseline-eval-job-us-amazon-nova-micro-v1-0-20250930-004725</th>\n",
              "      <td>arn:aws:bedrock:us-west-2:187899929471:evaluat...</td>\n",
              "      <td>baseline-evals/comparison-run-20250930-004722/...</td>\n",
              "      <td>0.37</td>\n",
              "      <td>100</td>\n",
              "      <td>4.325739</td>\n",
              "    </tr>\n",
              "  </tbody>\n",
              "</table>\n",
              "</div>"
            ],
            "text/plain": [
              "                                                                                              job_arn  \\\n",
              "job_name                                                                                                \n",
              "baseline-eval-job-20250930-004722                   arn:aws:bedrock:us-west-2:187899929471:evaluat...   \n",
              "baseline-eval-job-us-amazon-nova-lite-v1-0-2025...  arn:aws:bedrock:us-west-2:187899929471:evaluat...   \n",
              "baseline-eval-job-us-amazon-nova-micro-v1-0-202...  arn:aws:bedrock:us-west-2:187899929471:evaluat...   \n",
              "\n",
              "                                                                                       metrics_source  \\\n",
              "job_name                                                                                                \n",
              "baseline-eval-job-20250930-004722                   baseline-evals/comparison-run-20250930-004722/...   \n",
              "baseline-eval-job-us-amazon-nova-lite-v1-0-2025...  baseline-evals/comparison-run-20250930-004722/...   \n",
              "baseline-eval-job-us-amazon-nova-micro-v1-0-202...  baseline-evals/comparison-run-20250930-004722/...   \n",
              "\n",
              "                                                    Builtin.Accuracy  \\\n",
              "job_name                                                               \n",
              "baseline-eval-job-20250930-004722                               0.53   \n",
              "baseline-eval-job-us-amazon-nova-lite-v1-0-2025...              0.52   \n",
              "baseline-eval-job-us-amazon-nova-micro-v1-0-202...              0.37   \n",
              "\n",
              "                                                    recordsEvaluated  \\\n",
              "job_name                                                               \n",
              "baseline-eval-job-20250930-004722                                100   \n",
              "baseline-eval-job-us-amazon-nova-lite-v1-0-2025...               100   \n",
              "baseline-eval-job-us-amazon-nova-micro-v1-0-202...               100   \n",
              "\n",
              "                                                    Builtin.Robustness  \n",
              "job_name                                                                \n",
              "baseline-eval-job-20250930-004722                                  NaN  \n",
              "baseline-eval-job-us-amazon-nova-lite-v1-0-2025...            4.559676  \n",
              "baseline-eval-job-us-amazon-nova-micro-v1-0-202...            4.325739  "
            ]
          },
          "metadata": {},
          "output_type": "display_data"
        }
      ],
      "source": [
        "\n",
        "import pandas as pd\n",
        "from urllib.parse import urlparse\n",
        "from collections import defaultdict\n",
        "\n",
        "s3 = boto3.client('s3', region_name=aws_region)\n",
        "\n",
        "parsed_uri = urlparse(shared_output_uri)\n",
        "results_bucket = parsed_uri.netloc\n",
        "results_prefix = parsed_uri.path.lstrip('/')\n",
        "\n",
        "def iter_result_keys(bucket: str, prefix: str):\n",
        "    paginator = s3.get_paginator('list_objects_v2')\n",
        "    for page in paginator.paginate(Bucket=bucket, Prefix=prefix):\n",
        "        for obj in page.get('Contents', []):\n",
        "            yield obj['Key']\n",
        "\n",
        "def load_aggregated_metrics(job_name: str):\n",
        "    prefix = f\"{results_prefix}{job_name}/\"\n",
        "    keys = list(iter_result_keys(results_bucket, prefix))\n",
        "    if not keys:\n",
        "        return None, None\n",
        "\n",
        "    aggregated_keys = [key for key in keys if key.endswith('aggregated-metrics.json')]\n",
        "    if not aggregated_keys:\n",
        "        aggregated_keys = [key for key in keys if key.endswith('metrics.json')]\n",
        "\n",
        "    for key in aggregated_keys:\n",
        "        body = s3.get_object(Bucket=results_bucket, Key=key)['Body'].read()\n",
        "        try:\n",
        "            data = json.loads(body)\n",
        "        except json.JSONDecodeError:\n",
        "            continue\n",
        "        metrics = {}\n",
        "        if isinstance(data, dict):\n",
        "            for metric_name, metric_value in data.items():\n",
        "                if isinstance(metric_value, (int, float)):\n",
        "                    metrics[metric_name] = metric_value\n",
        "                elif isinstance(metric_value, dict) and 'value' in metric_value:\n",
        "                    value = metric_value.get('value')\n",
        "                    if isinstance(value, (int, float)):\n",
        "                        metrics[metric_name] = value\n",
        "        if metrics:\n",
        "            return metrics, key\n",
        "\n",
        "    jsonl_keys = [key for key in keys if key.endswith('_output.jsonl')]\n",
        "    for key in jsonl_keys:\n",
        "        body_stream = s3.get_object(Bucket=results_bucket, Key=key)['Body']\n",
        "        totals = defaultdict(float)\n",
        "        counts = defaultdict(int)\n",
        "        for raw_line in body_stream.iter_lines():\n",
        "            if not raw_line:\n",
        "                continue\n",
        "            try:\n",
        "                record = json.loads(raw_line)\n",
        "            except json.JSONDecodeError:\n",
        "                continue\n",
        "            scores = record.get('automatedEvaluationResult', {}).get('scores', [])\n",
        "            for score in scores:\n",
        "                metric_name = score.get('metricName')\n",
        "                metric_value = score.get('result')\n",
        "                if metric_name and isinstance(metric_value, (int, float)):\n",
        "                    totals[metric_name] += metric_value\n",
        "                    counts[metric_name] += 1\n",
        "        if counts:\n",
        "            metrics = {metric: totals[metric] / counts[metric] for metric in totals}\n",
        "            metrics['recordsEvaluated'] = max(counts.values())\n",
        "            return metrics, key\n",
        "\n",
        "    return None, None\n",
        "\n",
        "\n",
        "comparison_rows = []\n",
        "for job in comparison_jobs:\n",
        "    metrics, source_key = load_aggregated_metrics(job['job_name'])\n",
        "    if not metrics:\n",
        "        print(f\"No aggregated metrics yet for {job['job_name']} (check job status or output files manually).\")\n",
        "        continue\n",
        "    row = {\n",
        "        'job_name': job['job_name'],\n",
        "        'job_arn': job['job_arn'],\n",
        "        'metrics_source': source_key,\n",
        "    }\n",
        "    row.update(metrics)\n",
        "    comparison_rows.append(row)\n",
        "\n",
        "if not comparison_rows:\n",
        "    raise RuntimeError('No metrics available to compare yet. Re-run after the jobs finish.')\n",
        "\n",
        "comparison_df = pd.DataFrame(comparison_rows)\n",
        "comparison_df.set_index('job_name', inplace=True)\n",
        "display(comparison_df)\n"
      ]
    },
    {
      "cell_type": "markdown",
      "id": "40fd1070",
      "metadata": {},
      "source": [
        "### Visualize Metrics\n",
        "Use simple charts to highlight how each model performed across key metrics."
      ]
    },
    {
      "cell_type": "code",
      "execution_count": 14,
      "id": "3d59148a",
      "metadata": {},
      "outputs": [
        {
          "data": {
            "image/png": "[encoded data removed]",
            "text/plain": [
              "<Figure size 1000x600 with 1 Axes>"
            ]
          },
          "metadata": {},
          "output_type": "display_data"
        }
      ],
      "source": [
        "\n",
        "import matplotlib.pyplot as plt\n",
        "import seaborn as sns\n",
        "\n",
        "metric_columns = [col for col in comparison_df.columns if col not in ('job_arn', 'metrics_source', 'recordsEvaluated')]\n",
        "if not metric_columns:\n",
        "    raise ValueError('No metric columns found in comparison_df to visualize.')\n",
        "\n",
        "melted = comparison_df.reset_index().melt(id_vars=['job_name'], value_vars=metric_columns, var_name='metric', value_name='score')\n",
        "\n",
        "plt.figure(figsize=(10, 6))\n",
        "sns.barplot(data=melted, x='metric', y='score', hue='job_name')\n",
        "plt.xticks(rotation=45, ha='right')\n",
        "plt.ylabel('Score')\n",
        "plt.title('Evaluation Metrics by Job')\n",
        "plt.legend(title='Job', bbox_to_anchor=(1.05, 1), loc='upper left')\n",
        "plt.tight_layout()\n",
        "plt.show()\n"
      ]
    },
    {
      "cell_type": "markdown",
      "id": "99070698",
      "metadata": {},
      "source": [
        "## Next Steps\n",
        "- Monitor the job until it reaches a terminal state (`Completed`, `Failed`, or `Stopped`).\n",
        "- Review the metrics and detailed outputs stored in the S3 results prefix.\n",
        "- Iterate on prompts, models, or datasets as needed to improve baseline quality."
      ]
    }
  ],
  "metadata": {
    "kernelspec": {
      "display_name": ".venv",
      "language": "python",
      "name": "python3"
    },
    "language_info": {
      "codemirror_mode": {
        "name": "ipython",
        "version": 3
      },
      "file_extension": ".py",
      "mimetype": "text/x-python",
      "name": "python",
      "nbconvert_exporter": "python",
      "pygments_lexer": "ipython3",
      "version": "3.13.2"
    }
  },
  "nbformat": 4,
  "nbformat_minor": 5
}

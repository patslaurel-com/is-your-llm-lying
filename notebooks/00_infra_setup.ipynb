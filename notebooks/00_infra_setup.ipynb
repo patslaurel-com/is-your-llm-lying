{
 "cells": [
  {
   "cell_type": "markdown",
   "metadata": {},
   "source": [
    "# AWS Infrastructure Setup\n",
    "This notebook provisions foundational AWS resources for Riley Inc. demos. The primary objective is to create an Amazon S3 bucket that will host knowledge base documents and other evaluation artifacts."
   ]
  },
  {
   "cell_type": "markdown",
   "metadata": {},
   "source": [
    "## Prerequisites\n",
    "- AWS credentials configured in your environment (e.g., `~/.aws/credentials`, environment variables, or an instance role).\n",
    "- IAM permissions for `s3:CreateBucket`, `s3:PutBucketVersioning`, and `s3:PutObject`.\n",
    "- Python environment with `boto3` installed."
   ]
  },
  {
   "cell_type": "code",
   "execution_count": null,
   "metadata": {},
   "outputs": [],
   "source": [
    "import boto3\n",
    "from botocore.exceptions import ClientError\n",
    "from pathlib import Path\n",
    "import json\n",
    "import time"
   ]
  },
  {
   "cell_type": "markdown",
   "metadata": {},
   "source": [
    "## Configure Bucket Parameters\n",
    "Set a globally unique bucket name. Including the date or a random suffix helps avoid collisions."
   ]
  },
  {
   "cell_type": "code",
   "execution_count": null,
   "metadata": {},
   "outputs": [],
   "source": [
    "aws_region = \"us-west-2\"\n",
    "bucket_base_name = \"riley-inc-rag-knowledge-base\"\n",
    "timestamp_suffix = time.strftime(\"%Y%m%d-%H%M%S\")\n",
    "bucket_name = f\"{bucket_base_name}-{timestamp_suffix}\"\n",
    "print(f\"Target bucket: {bucket_name}\")"
   ]
  },
  {
   "cell_type": "markdown",
   "metadata": {},
   "source": [
    "## Create Knowledge Base Bucket\n",
    "The cell below attempts to create the bucket. If the bucket already exists under your account, the code will skip creation."
   ]
  },
  {
   "cell_type": "code",
   "execution_count": null,
   "metadata": {},
   "outputs": [],
   "source": [
    "s3_client = boto3.client(\"s3\", region_name=aws_region)\n",
    "\n",
    "def ensure_bucket(client, name, region):\n",
    "    try:\n",
    "        client.head_bucket(Bucket=name)\n",
    "        print(f\"Bucket '{name}' already exists and is accessible.\")\n",
    "    except ClientError as err:\n",
    "        error_code = int(err.response['Error']['Code'])\n",
    "        if error_code == 404:\n",
    "            create_args = {\n",
    "                'Bucket': name\n",
    "            }\n",
    "            if region != 'us-east-1':\n",
    "                create_args['CreateBucketConfiguration'] = {'LocationConstraint': region}\n",
    "            client.create_bucket(**create_args)\n",
    "            print(f\"Bucket '{name}' created in {region}.\")\n",
    "        else:\n",
    "            raise\n",
    "\n",
    "ensure_bucket(s3_client, bucket_name, aws_region)"
   ]
  },
  {
   "cell_type": "markdown",
   "metadata": {},
   "source": [
    "## Enable Versioning (Optional but Recommended)"
   ]
  },
  {
   "cell_type": "code",
   "execution_count": null,
   "metadata": {},
   "outputs": [],
   "source": [
    "versioning = boto3.resource(\"s3\", region_name=aws_region).BucketVersioning(bucket_name)\n",
    "versioning.enable()\n",
    "print(f\"Knowledge base bucket versioning status: {versioning.status}\")"
   ]
  },
  {
   "cell_type": "markdown",
   "metadata": {},
   "source": [
    "## Create Evaluation Results Bucket\n",
    "Provision a separate bucket to capture evaluation outputs and artifacts."
   ]
  },
  {
   "cell_type": "code",
   "execution_count": null,
   "id": "de17f7d9",
   "metadata": {},
   "outputs": [],
   "source": [
    "eval_bucket_base_name = \"riley-inc-rag-eval-results\"\n",
    "eval_bucket_name = f\"{eval_bucket_base_name}-{timestamp_suffix}\"\n",
    "ensure_bucket(s3_client, eval_bucket_name, aws_region)\n",
    "eval_versioning = boto3.resource(\"s3\", region_name=aws_region).BucketVersioning(eval_bucket_name)\n",
    "eval_versioning.enable()\n",
    "print(f\"Evaluation results bucket ready: s3://{eval_bucket_name} (versioning={eval_versioning.status})\")"
   ]
  },
  {
   "cell_type": "markdown",
   "id": "65e0a9ba",
   "metadata": {},
   "source": [
    "## Upload Knowledge Base Documents\n",
    "This helper uploads all markdown files from `knowledge_base_docs` into the knowledge base bucket under the `knowledge-base/` prefix."
   ]
  },
  {
   "cell_type": "code",
   "execution_count": null,
   "id": "dc2c70e6",
   "metadata": {},
   "outputs": [],
   "source": [
    "knowledge_base_dir = Path('../knowledge_base_docs')\n",
    "prefix = 'knowledge-base/'\n",
    "upload_manifest = []\n",
    "\n",
    "for path in knowledge_base_dir.glob('*.md'):\n",
    "    key = prefix + path.name\n",
    "    s3_client.upload_file(str(path), bucket_name, key)\n",
    "    upload_manifest.append({'file': path.name, 's3_key': key})\n",
    "    print(f\"Uploaded {path.name} -> s3://{bucket_name}/{key}\")\n",
    "\n",
    "print(json.dumps(upload_manifest, indent=2))"
   ]
  },
  {
   "cell_type": "markdown",
   "id": "20644304",
   "metadata": {},
   "source": [
    "## Cleanup (Optional)\n",
    "Use this cell to remove all objects and delete the buckets when you no longer need them."
   ]
  },
  {
   "cell_type": "code",
   "execution_count": null,
   "id": "565a81f2",
   "metadata": {},
   "outputs": [],
   "source": [
    "perform_cleanup = False  # Set to True to run cleanup\n",
    "\n",
    "if perform_cleanup:\n",
    "    s3_resource = boto3.resource(\"s3\", region_name=aws_region)\n",
    "\n",
    "    def empty_and_delete(bucket_name_to_remove):\n",
    "        bucket = s3_resource.Bucket(bucket_name_to_remove)\n",
    "        print(f\"Clearing bucket: {bucket_name_to_remove}\")\n",
    "        bucket.object_versions.delete()\n",
    "        bucket.objects.delete()\n",
    "        bucket.delete()\n",
    "        print(f\"Bucket {bucket_name_to_remove} deleted.\")\n",
    "\n",
    "    for target in (bucket_name, eval_bucket_name):\n",
    "        try:\n",
    "            empty_and_delete(target)\n",
    "        except ClientError as err:\n",
    "            print(f\"Failed to delete {target}: {err}\")\n",
    "else:\n",
    "    print(\"Cleanup skipped. Set perform_cleanup=True to remove buckets.\")"
   ]
  },
  {
   "cell_type": "markdown",
   "metadata": {},
   "source": [
    "## Next Steps\n",
    "- Store evaluation datasets and prompt libraries in the same bucket.\n",
    "- Grant access to downstream AWS services (e.g., Bedrock, SageMaker) via bucket policies.\n",
    "- Enable server-side encryption and lifecycle rules if required by compliance policies."
   ]
  }
 ],
 "metadata": {
  "kernelspec": {
   "display_name": "Python 3",
   "language": "python",
   "name": "python3"
  },
  "language_info": {
   "name": "python",
   "version": "3.10"
  }
 },
 "nbformat": 4,
 "nbformat_minor": 5
}
